{
 "cells": [
  {
   "cell_type": "code",
   "execution_count": 2,
   "metadata": {},
   "outputs": [],
   "source": [
    "import pandas as pd\n",
    "import numpy as np\n",
    "from sklearn.model_selection import train_test_split\n",
    "from sklearn.feature_extraction.text import TfidfVectorizer\n",
    "from scipy.sparse.linalg import svds\n",
    "from sklearn.metrics.pairwise import cosine_similarity\n",
    "import matplotlib.pyplot as plt\n",
    "\n",
    "import sys\n",
    "sys.path.append('../')\n",
    "from src.data_processing import load_data, preprocess_data, create_user_item_matrix, create_item_features\n",
    "from src.models import CollaborativeFilteringRecommender, ContentBasedRecommender, HybridRecommender\n",
    "from src.evaluation import evaluate_model"
   ]
  },
  {
   "cell_type": "code",
   "execution_count": 3,
   "metadata": {},
   "outputs": [],
   "source": [
    "# Load and preprocess data\n",
    "df = pd.read_json('../data/Electronics_5.json', lines=True, nrows=5000)\n",
    "# df = df.head(100000) "
   ]
  },
  {
   "cell_type": "code",
   "execution_count": 4,
   "metadata": {},
   "outputs": [
    {
     "data": {
      "text/html": [
       "<div>\n",
       "<style scoped>\n",
       "    .dataframe tbody tr th:only-of-type {\n",
       "        vertical-align: middle;\n",
       "    }\n",
       "\n",
       "    .dataframe tbody tr th {\n",
       "        vertical-align: top;\n",
       "    }\n",
       "\n",
       "    .dataframe thead th {\n",
       "        text-align: right;\n",
       "    }\n",
       "</style>\n",
       "<table border=\"1\" class=\"dataframe\">\n",
       "  <thead>\n",
       "    <tr style=\"text-align: right;\">\n",
       "      <th></th>\n",
       "      <th>overall</th>\n",
       "      <th>vote</th>\n",
       "      <th>verified</th>\n",
       "      <th>reviewTime</th>\n",
       "      <th>reviewerID</th>\n",
       "      <th>asin</th>\n",
       "      <th>style</th>\n",
       "      <th>reviewerName</th>\n",
       "      <th>reviewText</th>\n",
       "      <th>summary</th>\n",
       "      <th>unixReviewTime</th>\n",
       "      <th>image</th>\n",
       "    </tr>\n",
       "  </thead>\n",
       "  <tbody>\n",
       "    <tr>\n",
       "      <th>0</th>\n",
       "      <td>5</td>\n",
       "      <td>67.0</td>\n",
       "      <td>True</td>\n",
       "      <td>09 18, 1999</td>\n",
       "      <td>AAP7PPBU72QFM</td>\n",
       "      <td>0151004714</td>\n",
       "      <td>{'Format:': ' Hardcover'}</td>\n",
       "      <td>D. C. Carrad</td>\n",
       "      <td>This is the best novel I have read in 2 or 3 y...</td>\n",
       "      <td>A star is born</td>\n",
       "      <td>937612800</td>\n",
       "      <td>NaN</td>\n",
       "    </tr>\n",
       "    <tr>\n",
       "      <th>1</th>\n",
       "      <td>3</td>\n",
       "      <td>5.0</td>\n",
       "      <td>True</td>\n",
       "      <td>10 23, 2013</td>\n",
       "      <td>A2E168DTVGE6SV</td>\n",
       "      <td>0151004714</td>\n",
       "      <td>{'Format:': ' Kindle Edition'}</td>\n",
       "      <td>Evy</td>\n",
       "      <td>Pages and pages of introspection, in the style...</td>\n",
       "      <td>A stream of consciousness novel</td>\n",
       "      <td>1382486400</td>\n",
       "      <td>NaN</td>\n",
       "    </tr>\n",
       "    <tr>\n",
       "      <th>2</th>\n",
       "      <td>5</td>\n",
       "      <td>4.0</td>\n",
       "      <td>False</td>\n",
       "      <td>09 2, 2008</td>\n",
       "      <td>A1ER5AYS3FQ9O3</td>\n",
       "      <td>0151004714</td>\n",
       "      <td>{'Format:': ' Paperback'}</td>\n",
       "      <td>Kcorn</td>\n",
       "      <td>This is the kind of novel to read when you hav...</td>\n",
       "      <td>I'm a huge fan of the author and this one did ...</td>\n",
       "      <td>1220313600</td>\n",
       "      <td>NaN</td>\n",
       "    </tr>\n",
       "    <tr>\n",
       "      <th>3</th>\n",
       "      <td>5</td>\n",
       "      <td>13.0</td>\n",
       "      <td>False</td>\n",
       "      <td>09 4, 2000</td>\n",
       "      <td>A1T17LMQABMBN5</td>\n",
       "      <td>0151004714</td>\n",
       "      <td>{'Format:': ' Hardcover'}</td>\n",
       "      <td>Caf Girl Writes</td>\n",
       "      <td>What gorgeous language! What an incredible wri...</td>\n",
       "      <td>The most beautiful book I have ever read!</td>\n",
       "      <td>968025600</td>\n",
       "      <td>NaN</td>\n",
       "    </tr>\n",
       "    <tr>\n",
       "      <th>4</th>\n",
       "      <td>3</td>\n",
       "      <td>8.0</td>\n",
       "      <td>True</td>\n",
       "      <td>02 4, 2000</td>\n",
       "      <td>A3QHJ0FXK33OBE</td>\n",
       "      <td>0151004714</td>\n",
       "      <td>{'Format:': ' Hardcover'}</td>\n",
       "      <td>W. Shane Schmidt</td>\n",
       "      <td>I was taken in by reviews that compared this b...</td>\n",
       "      <td>A dissenting view--In part.</td>\n",
       "      <td>949622400</td>\n",
       "      <td>NaN</td>\n",
       "    </tr>\n",
       "    <tr>\n",
       "      <th>...</th>\n",
       "      <td>...</td>\n",
       "      <td>...</td>\n",
       "      <td>...</td>\n",
       "      <td>...</td>\n",
       "      <td>...</td>\n",
       "      <td>...</td>\n",
       "      <td>...</td>\n",
       "      <td>...</td>\n",
       "      <td>...</td>\n",
       "      <td>...</td>\n",
       "      <td>...</td>\n",
       "      <td>...</td>\n",
       "    </tr>\n",
       "    <tr>\n",
       "      <th>4995</th>\n",
       "      <td>3</td>\n",
       "      <td>NaN</td>\n",
       "      <td>True</td>\n",
       "      <td>06 17, 2010</td>\n",
       "      <td>A3Q4E2FTXYOQEW</td>\n",
       "      <td>B000001OMA</td>\n",
       "      <td>{'Format:': ' Electronics'}</td>\n",
       "      <td>Hilo</td>\n",
       "      <td>How can you tell that these things are actuall...</td>\n",
       "      <td>okay</td>\n",
       "      <td>1276732800</td>\n",
       "      <td>NaN</td>\n",
       "    </tr>\n",
       "    <tr>\n",
       "      <th>4996</th>\n",
       "      <td>5</td>\n",
       "      <td>7.0</td>\n",
       "      <td>True</td>\n",
       "      <td>05 24, 2010</td>\n",
       "      <td>A3EUKMMEPL4BNN</td>\n",
       "      <td>B000001OMA</td>\n",
       "      <td>{'Format:': ' Electronics'}</td>\n",
       "      <td>elfin</td>\n",
       "      <td>I was extremely pleased with how well this cle...</td>\n",
       "      <td>Works well, but strangely</td>\n",
       "      <td>1274659200</td>\n",
       "      <td>NaN</td>\n",
       "    </tr>\n",
       "    <tr>\n",
       "      <th>4997</th>\n",
       "      <td>5</td>\n",
       "      <td>10.0</td>\n",
       "      <td>True</td>\n",
       "      <td>02 6, 2010</td>\n",
       "      <td>A3SO2AGQXXL8LC</td>\n",
       "      <td>B000001OMA</td>\n",
       "      <td>{'Format:': ' Electronics'}</td>\n",
       "      <td>Jeffrey ankiel</td>\n",
       "      <td>this product was wonderful,i have cd player in...</td>\n",
       "      <td>maxwell cd345 cd laser lens cleaner</td>\n",
       "      <td>1265414400</td>\n",
       "      <td>NaN</td>\n",
       "    </tr>\n",
       "    <tr>\n",
       "      <th>4998</th>\n",
       "      <td>5</td>\n",
       "      <td>19.0</td>\n",
       "      <td>False</td>\n",
       "      <td>10 1, 2009</td>\n",
       "      <td>A2LZ3HGE6UMSQF</td>\n",
       "      <td>B000001OMA</td>\n",
       "      <td>{'Format:': ' Electronics'}</td>\n",
       "      <td>BSquared18</td>\n",
       "      <td>This is one of those products where you can ne...</td>\n",
       "      <td>Works Well as Far as I Can Tell</td>\n",
       "      <td>1254355200</td>\n",
       "      <td>NaN</td>\n",
       "    </tr>\n",
       "    <tr>\n",
       "      <th>4999</th>\n",
       "      <td>4</td>\n",
       "      <td>NaN</td>\n",
       "      <td>True</td>\n",
       "      <td>07 28, 2015</td>\n",
       "      <td>A1HOZALOSEY5NL</td>\n",
       "      <td>B000001OKK</td>\n",
       "      <td>{'Format:': ' Electronics'}</td>\n",
       "      <td>Robert</td>\n",
       "      <td>Good quality.</td>\n",
       "      <td>Four Stars</td>\n",
       "      <td>1438041600</td>\n",
       "      <td>NaN</td>\n",
       "    </tr>\n",
       "  </tbody>\n",
       "</table>\n",
       "<p>5000 rows × 12 columns</p>\n",
       "</div>"
      ],
      "text/plain": [
       "      overall  vote  verified   reviewTime      reviewerID        asin  \\\n",
       "0           5  67.0      True  09 18, 1999   AAP7PPBU72QFM  0151004714   \n",
       "1           3   5.0      True  10 23, 2013  A2E168DTVGE6SV  0151004714   \n",
       "2           5   4.0     False   09 2, 2008  A1ER5AYS3FQ9O3  0151004714   \n",
       "3           5  13.0     False   09 4, 2000  A1T17LMQABMBN5  0151004714   \n",
       "4           3   8.0      True   02 4, 2000  A3QHJ0FXK33OBE  0151004714   \n",
       "...       ...   ...       ...          ...             ...         ...   \n",
       "4995        3   NaN      True  06 17, 2010  A3Q4E2FTXYOQEW  B000001OMA   \n",
       "4996        5   7.0      True  05 24, 2010  A3EUKMMEPL4BNN  B000001OMA   \n",
       "4997        5  10.0      True   02 6, 2010  A3SO2AGQXXL8LC  B000001OMA   \n",
       "4998        5  19.0     False   10 1, 2009  A2LZ3HGE6UMSQF  B000001OMA   \n",
       "4999        4   NaN      True  07 28, 2015  A1HOZALOSEY5NL  B000001OKK   \n",
       "\n",
       "                               style      reviewerName  \\\n",
       "0          {'Format:': ' Hardcover'}      D. C. Carrad   \n",
       "1     {'Format:': ' Kindle Edition'}               Evy   \n",
       "2          {'Format:': ' Paperback'}             Kcorn   \n",
       "3          {'Format:': ' Hardcover'}   Caf Girl Writes   \n",
       "4          {'Format:': ' Hardcover'}  W. Shane Schmidt   \n",
       "...                              ...               ...   \n",
       "4995     {'Format:': ' Electronics'}              Hilo   \n",
       "4996     {'Format:': ' Electronics'}             elfin   \n",
       "4997     {'Format:': ' Electronics'}    Jeffrey ankiel   \n",
       "4998     {'Format:': ' Electronics'}        BSquared18   \n",
       "4999     {'Format:': ' Electronics'}            Robert   \n",
       "\n",
       "                                             reviewText  \\\n",
       "0     This is the best novel I have read in 2 or 3 y...   \n",
       "1     Pages and pages of introspection, in the style...   \n",
       "2     This is the kind of novel to read when you hav...   \n",
       "3     What gorgeous language! What an incredible wri...   \n",
       "4     I was taken in by reviews that compared this b...   \n",
       "...                                                 ...   \n",
       "4995  How can you tell that these things are actuall...   \n",
       "4996  I was extremely pleased with how well this cle...   \n",
       "4997  this product was wonderful,i have cd player in...   \n",
       "4998  This is one of those products where you can ne...   \n",
       "4999                                      Good quality.   \n",
       "\n",
       "                                                summary  unixReviewTime image  \n",
       "0                                        A star is born       937612800   NaN  \n",
       "1                       A stream of consciousness novel      1382486400   NaN  \n",
       "2     I'm a huge fan of the author and this one did ...      1220313600   NaN  \n",
       "3             The most beautiful book I have ever read!       968025600   NaN  \n",
       "4                           A dissenting view--In part.       949622400   NaN  \n",
       "...                                                 ...             ...   ...  \n",
       "4995                                               okay      1276732800   NaN  \n",
       "4996                          Works well, but strangely      1274659200   NaN  \n",
       "4997                maxwell cd345 cd laser lens cleaner      1265414400   NaN  \n",
       "4998                    Works Well as Far as I Can Tell      1254355200   NaN  \n",
       "4999                                         Four Stars      1438041600   NaN  \n",
       "\n",
       "[5000 rows x 12 columns]"
      ]
     },
     "execution_count": 4,
     "metadata": {},
     "output_type": "execute_result"
    }
   ],
   "source": [
    "df"
   ]
  },
  {
   "cell_type": "code",
   "execution_count": 5,
   "metadata": {},
   "outputs": [
    {
     "name": "stdout",
     "output_type": "stream",
     "text": [
      "Preprocessing data...\n"
     ]
    },
    {
     "name": "stderr",
     "output_type": "stream",
     "text": [
      "/tmp/ipykernel_758798/890565153.py:5: SettingWithCopyWarning: \n",
      "A value is trying to be set on a copy of a slice from a DataFrame.\n",
      "Try using .loc[row_indexer,col_indexer] = value instead\n",
      "\n",
      "See the caveats in the documentation: https://pandas.pydata.org/pandas-docs/stable/user_guide/indexing.html#returning-a-view-versus-a-copy\n",
      "  df['review_text'] = df['review_text'].fillna('')\n"
     ]
    }
   ],
   "source": [
    "# Preprocess data\n",
    "print(\"Preprocessing data...\")\n",
    "df = df[['reviewerID', 'asin', 'overall', 'reviewText']]\n",
    "df.columns = ['user_id', 'item_id', 'rating', 'review_text']\n",
    "df['review_text'] = df['review_text'].fillna('')"
   ]
  },
  {
   "cell_type": "code",
   "execution_count": 6,
   "metadata": {},
   "outputs": [
    {
     "name": "stdout",
     "output_type": "stream",
     "text": [
      "Creating user-item matrix...\n"
     ]
    }
   ],
   "source": [
    "# Create train/test split\n",
    "train_data, test_data = train_test_split(df, test_size=0.2, random_state=42)\n",
    "\n",
    "# Create user-item matrix\n",
    "print(\"Creating user-item matrix...\")\n",
    "train_agg = train_data.groupby(['user_id', 'item_id'])['rating'].mean().reset_index()\n",
    "user_item_matrix = train_agg.pivot(index='user_id', columns='item_id', values='rating').fillna(0)"
   ]
  },
  {
   "cell_type": "code",
   "execution_count": 7,
   "metadata": {},
   "outputs": [
    {
     "name": "stdout",
     "output_type": "stream",
     "text": [
      "Creating item features...\n"
     ]
    }
   ],
   "source": [
    "print(\"Creating item features...\")\n",
    "item_reviews = train_data.groupby('item_id')['review_text'].apply(' '.join).reset_index()\n",
    "item_reviews['review_text'] = item_reviews['review_text'].fillna('')\n",
    "max_features = min(1000, len(item_reviews))\n",
    "vectorizer = TfidfVectorizer(max_features=max_features, stop_words='english')\n",
    "item_features = vectorizer.fit_transform(item_reviews['review_text'])\n",
    "item_ids = item_reviews['item_id'].values"
   ]
  },
  {
   "cell_type": "code",
   "execution_count": 8,
   "metadata": {},
   "outputs": [
    {
     "name": "stdout",
     "output_type": "stream",
     "text": [
      "Using 20 factors due to matrix size constraints\n"
     ]
    }
   ],
   "source": [
    "matrix_min_dim = min(user_item_matrix.shape)\n",
    "n_factors = min(20, matrix_min_dim - 1)\n",
    "print(f\"Using {n_factors} factors due to matrix size constraints\")"
   ]
  },
  {
   "cell_type": "code",
   "execution_count": 9,
   "metadata": {},
   "outputs": [],
   "source": [
    "U, sigma, Vt = svds(user_item_matrix.values, k=n_factors)\n",
    "sigma_diag = np.diag(sigma)\n",
    "user_factors = U\n",
    "item_factors = Vt.T\n",
    "\n",
    "# Generate some CF recommendations\n",
    "cf_recommendations = {}\n",
    "for user_idx, user_id in enumerate(user_item_matrix.index[:5]):\n",
    "    user_pred = user_factors[user_idx, :].dot(item_factors.T)\n",
    "    recommendations = np.argsort(user_pred)[::-1][:10]\n",
    "    cf_recommendations[user_id] = [user_item_matrix.columns[i] for i in recommendations]"
   ]
  },
  {
   "cell_type": "code",
   "execution_count": 10,
   "metadata": {},
   "outputs": [
    {
     "name": "stdout",
     "output_type": "stream",
     "text": [
      "Generating Content-based recommendations...\n"
     ]
    }
   ],
   "source": [
    "print(\"Generating Content-based recommendations...\")\n",
    "similarity_matrix = cosine_similarity(item_features)\n",
    "cb_recommendations = {}\n",
    "for i, item_id in enumerate(item_ids[:5]):\n",
    "    item_similarities = similarity_matrix[i]\n",
    "    similar_indices = np.argsort(item_similarities)[::-1][1:11]\n",
    "    cb_recommendations[item_id] = [item_ids[j] for j in similar_indices]"
   ]
  },
  {
   "cell_type": "code",
   "execution_count": null,
   "metadata": {},
   "outputs": [
    {
     "name": "stdout",
     "output_type": "stream",
     "text": [
      "\n",
      "Results:\n",
      "\n",
      "Collaborative Filtering Recommendations:\n",
      "User A0718466DJ0Y591VLAL7: ['9573212919', '1400501466', '0594481902', '6073894996', '1933622326']\n",
      "User A1005332P0RIWL: ['106171327X', '0594481902', '1400699169', '1400599997', '1400532620']\n",
      "\n",
      "Content-Based Recommendations:\n",
      "Item 0151004714: ['0764207474', '1495443043', '1450559883', '1451529082', '1444700650']\n",
      "Item 0380709473: ['0151004714', '0764207474', '1495443043', '0765312506', '1451529082']\n",
      "\n",
      "Plotting results...\n"
     ]
    },
    {
     "data": {
      "image/png": "[encoded data removed]",
      "text/plain": [
       "<Figure size 800x500 with 1 Axes>"
      ]
     },
     "metadata": {},
     "output_type": "display_data"
    }
   ],
   "source": [
    "print(\"\\nResults:\")\n",
    "print(\"\\nCollaborative Filtering Recommendations:\")\n",
    "for user_id, items in list(cf_recommendations.items())[:2]:\n",
    "    print(f\"User {user_id}: {items[:5]}\")\n",
    "\n",
    "print(\"\\nContent-Based Recommendations:\")\n",
    "for item_id, items in list(cb_recommendations.items())[:2]:\n",
    "    print(f\"Item {item_id}: {items[:5]}\")\n",
    "\n",
    "# Plot a simple bar chart\n",
    "print(\"\\nPlotting results...\")\n",
    "fig, ax = plt.subplots(figsize=(8, 5))\n",
    "ax.bar(['Collaborative Filtering', 'Content-Based'], [0.1, 0.05])\n",
    "ax.set_ylabel('Precision@10')\n",
    "ax.set_title('Recommendation Method Comparison')\n",
    "plt.tight_layout()\n",
    "plt.show()"
   ]
  },
  {
   "cell_type": "code",
   "execution_count": null,
   "metadata": {},
   "outputs": [],
   "source": []
  },
  {
   "cell_type": "code",
   "execution_count": null,
   "metadata": {},
   "outputs": [],
   "source": []
  },
  {
   "cell_type": "code",
   "execution_count": null,
   "metadata": {},
   "outputs": [],
   "source": []
  },
  {
   "cell_type": "code",
   "execution_count": null,
   "metadata": {},
   "outputs": [],
   "source": []
  },
  {
   "cell_type": "code",
   "execution_count": null,
   "metadata": {},
   "outputs": [],
   "source": []
  }
 ],
 "metadata": {
  "kernelspec": {
   "display_name": "base",
   "language": "python",
   "name": "python3"
  },
  "language_info": {
   "codemirror_mode": {
    "name": "ipython",
    "version": 3
   },
   "file_extension": ".py",
   "mimetype": "text/x-python",
   "name": "python",
   "nbconvert_exporter": "python",
   "pygments_lexer": "ipython3",
   "version": "3.11.5"
  }
 },
 "nbformat": 4,
 "nbformat_minor": 2
}
